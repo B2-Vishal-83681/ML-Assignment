{
 "cells": [
  {
   "cell_type": "code",
   "execution_count": 1,
   "id": "72b20a68-0a23-429b-abd8-3035b25b6e40",
   "metadata": {},
   "outputs": [
    {
     "name": "stderr",
     "output_type": "stream",
     "text": [
      "/home/sunbeam/.local/lib/python3.10/site-packages/matplotlib/projections/__init__.py:63: UserWarning: Unable to import Axes3D. This may be due to multiple versions of Matplotlib being installed (e.g. as a system package and as a pip package). As a result, the 3D projection is not available.\n",
      "  warnings.warn(\"Unable to import Axes3D. This may be due to multiple versions of \"\n"
     ]
    }
   ],
   "source": [
    "import numpy as pn\n",
    "import pandas as pd\n",
    "import matplotlib.pyplot as plt\n",
    "import seaborn as sb"
   ]
  },
  {
   "cell_type": "code",
   "execution_count": 2,
   "id": "476403f4-fc53-45d7-a41c-6380ee6aa75d",
   "metadata": {},
   "outputs": [],
   "source": [
    "df = pd.read_csv('claimants.csv')"
   ]
  },
  {
   "cell_type": "markdown",
   "id": "db71fdf6-83d4-4d86-ae3b-3ceeb4b7d206",
   "metadata": {},
   "source": [
    "### EDA"
   ]
  },
  {
   "cell_type": "code",
   "execution_count": 3,
   "id": "9e69a07c-448e-4956-89ef-dc6a27fcf239",
   "metadata": {},
   "outputs": [
    {
     "data": {
      "text/html": [
       "<div>\n",
       "<style scoped>\n",
       "    .dataframe tbody tr th:only-of-type {\n",
       "        vertical-align: middle;\n",
       "    }\n",
       "\n",
       "    .dataframe tbody tr th {\n",
       "        vertical-align: top;\n",
       "    }\n",
       "\n",
       "    .dataframe thead th {\n",
       "        text-align: right;\n",
       "    }\n",
       "</style>\n",
       "<table border=\"1\" class=\"dataframe\">\n",
       "  <thead>\n",
       "    <tr style=\"text-align: right;\">\n",
       "      <th></th>\n",
       "      <th>ATTORNEY</th>\n",
       "      <th>CLMSEX</th>\n",
       "      <th>CLMINSUR</th>\n",
       "      <th>SEATBELT</th>\n",
       "      <th>CLMAGE</th>\n",
       "      <th>LOSS</th>\n",
       "    </tr>\n",
       "  </thead>\n",
       "  <tbody>\n",
       "    <tr>\n",
       "      <th>0</th>\n",
       "      <td>0</td>\n",
       "      <td>0.0</td>\n",
       "      <td>1.0</td>\n",
       "      <td>0.0</td>\n",
       "      <td>50.0</td>\n",
       "      <td>34.940</td>\n",
       "    </tr>\n",
       "    <tr>\n",
       "      <th>1</th>\n",
       "      <td>1</td>\n",
       "      <td>1.0</td>\n",
       "      <td>0.0</td>\n",
       "      <td>0.0</td>\n",
       "      <td>18.0</td>\n",
       "      <td>0.891</td>\n",
       "    </tr>\n",
       "    <tr>\n",
       "      <th>2</th>\n",
       "      <td>1</td>\n",
       "      <td>0.0</td>\n",
       "      <td>1.0</td>\n",
       "      <td>0.0</td>\n",
       "      <td>5.0</td>\n",
       "      <td>0.330</td>\n",
       "    </tr>\n",
       "    <tr>\n",
       "      <th>3</th>\n",
       "      <td>0</td>\n",
       "      <td>0.0</td>\n",
       "      <td>1.0</td>\n",
       "      <td>1.0</td>\n",
       "      <td>31.0</td>\n",
       "      <td>0.037</td>\n",
       "    </tr>\n",
       "    <tr>\n",
       "      <th>4</th>\n",
       "      <td>1</td>\n",
       "      <td>0.0</td>\n",
       "      <td>1.0</td>\n",
       "      <td>0.0</td>\n",
       "      <td>30.0</td>\n",
       "      <td>0.038</td>\n",
       "    </tr>\n",
       "  </tbody>\n",
       "</table>\n",
       "</div>"
      ],
      "text/plain": [
       "   ATTORNEY  CLMSEX  CLMINSUR  SEATBELT  CLMAGE    LOSS\n",
       "0         0     0.0       1.0       0.0    50.0  34.940\n",
       "1         1     1.0       0.0       0.0    18.0   0.891\n",
       "2         1     0.0       1.0       0.0     5.0   0.330\n",
       "3         0     0.0       1.0       1.0    31.0   0.037\n",
       "4         1     0.0       1.0       0.0    30.0   0.038"
      ]
     },
     "execution_count": 3,
     "metadata": {},
     "output_type": "execute_result"
    }
   ],
   "source": [
    "df.head()"
   ]
  },
  {
   "cell_type": "code",
   "execution_count": 4,
   "id": "4aefd2b0-9342-4c72-8a81-5dfb12983316",
   "metadata": {},
   "outputs": [
    {
     "data": {
      "text/html": [
       "<div>\n",
       "<style scoped>\n",
       "    .dataframe tbody tr th:only-of-type {\n",
       "        vertical-align: middle;\n",
       "    }\n",
       "\n",
       "    .dataframe tbody tr th {\n",
       "        vertical-align: top;\n",
       "    }\n",
       "\n",
       "    .dataframe thead th {\n",
       "        text-align: right;\n",
       "    }\n",
       "</style>\n",
       "<table border=\"1\" class=\"dataframe\">\n",
       "  <thead>\n",
       "    <tr style=\"text-align: right;\">\n",
       "      <th></th>\n",
       "      <th>ATTORNEY</th>\n",
       "      <th>CLMSEX</th>\n",
       "      <th>CLMINSUR</th>\n",
       "      <th>SEATBELT</th>\n",
       "      <th>CLMAGE</th>\n",
       "      <th>LOSS</th>\n",
       "    </tr>\n",
       "  </thead>\n",
       "  <tbody>\n",
       "    <tr>\n",
       "      <th>ATTORNEY</th>\n",
       "      <td>1.000000</td>\n",
       "      <td>0.079674</td>\n",
       "      <td>0.079439</td>\n",
       "      <td>-0.057189</td>\n",
       "      <td>0.010680</td>\n",
       "      <td>-0.219715</td>\n",
       "    </tr>\n",
       "    <tr>\n",
       "      <th>CLMSEX</th>\n",
       "      <td>0.079674</td>\n",
       "      <td>1.000000</td>\n",
       "      <td>0.066413</td>\n",
       "      <td>-0.015024</td>\n",
       "      <td>-0.023195</td>\n",
       "      <td>-0.027611</td>\n",
       "    </tr>\n",
       "    <tr>\n",
       "      <th>CLMINSUR</th>\n",
       "      <td>0.079439</td>\n",
       "      <td>0.066413</td>\n",
       "      <td>1.000000</td>\n",
       "      <td>0.021154</td>\n",
       "      <td>0.049493</td>\n",
       "      <td>0.005821</td>\n",
       "    </tr>\n",
       "    <tr>\n",
       "      <th>SEATBELT</th>\n",
       "      <td>-0.057189</td>\n",
       "      <td>-0.015024</td>\n",
       "      <td>0.021154</td>\n",
       "      <td>1.000000</td>\n",
       "      <td>-0.027992</td>\n",
       "      <td>0.111189</td>\n",
       "    </tr>\n",
       "    <tr>\n",
       "      <th>CLMAGE</th>\n",
       "      <td>0.010680</td>\n",
       "      <td>-0.023195</td>\n",
       "      <td>0.049493</td>\n",
       "      <td>-0.027992</td>\n",
       "      <td>1.000000</td>\n",
       "      <td>0.064612</td>\n",
       "    </tr>\n",
       "    <tr>\n",
       "      <th>LOSS</th>\n",
       "      <td>-0.219715</td>\n",
       "      <td>-0.027611</td>\n",
       "      <td>0.005821</td>\n",
       "      <td>0.111189</td>\n",
       "      <td>0.064612</td>\n",
       "      <td>1.000000</td>\n",
       "    </tr>\n",
       "  </tbody>\n",
       "</table>\n",
       "</div>"
      ],
      "text/plain": [
       "          ATTORNEY    CLMSEX  CLMINSUR  SEATBELT    CLMAGE      LOSS\n",
       "ATTORNEY  1.000000  0.079674  0.079439 -0.057189  0.010680 -0.219715\n",
       "CLMSEX    0.079674  1.000000  0.066413 -0.015024 -0.023195 -0.027611\n",
       "CLMINSUR  0.079439  0.066413  1.000000  0.021154  0.049493  0.005821\n",
       "SEATBELT -0.057189 -0.015024  0.021154  1.000000 -0.027992  0.111189\n",
       "CLMAGE    0.010680 -0.023195  0.049493 -0.027992  1.000000  0.064612\n",
       "LOSS     -0.219715 -0.027611  0.005821  0.111189  0.064612  1.000000"
      ]
     },
     "execution_count": 4,
     "metadata": {},
     "output_type": "execute_result"
    }
   ],
   "source": [
    "df.corr()"
   ]
  },
  {
   "cell_type": "markdown",
   "id": "1ecc9915-76b3-43f0-ac97-28981b2de8b1",
   "metadata": {},
   "source": [
    "### split data into x and y "
   ]
  },
  {
   "cell_type": "code",
   "execution_count": 5,
   "id": "8c59cbdf-5636-4e80-9410-6b3eb2121ad5",
   "metadata": {},
   "outputs": [],
   "source": [
    "x = df[['CLMSEX','CLMINSUR','SEATBELT','CLMAGE']]\n",
    "y = df['ATTORNEY']"
   ]
  },
  {
   "cell_type": "markdown",
   "id": "b55cc9d5-5657-4521-962a-aabb3f8d7692",
   "metadata": {},
   "source": [
    "### split data into train and test"
   ]
  },
  {
   "cell_type": "code",
   "execution_count": 51,
   "id": "865a7e79-e1f6-467c-8372-339e91b4b3fe",
   "metadata": {},
   "outputs": [],
   "source": [
    "from sklearn.model_selection import train_test_split\n",
    "x_train, x_test, y_train, y_test = train_test_split(x, y,train_size=0.75,random_state=123456)"
   ]
  },
  {
   "cell_type": "markdown",
   "id": "d10427e9-5d9c-4c45-a30c-bc124d3dee6a",
   "metadata": {},
   "source": [
    "### create model"
   ]
  },
  {
   "cell_type": "code",
   "execution_count": 57,
   "id": "f4bd1696-6309-48a2-9a18-9b37cf2803fa",
   "metadata": {},
   "outputs": [],
   "source": [
    "def create_dt():\n",
    "    from sklearn.tree import DecisionTreeClassifier\n",
    "\n",
    "    model = DecisionTreeClassifier(max_depth=6,max_features=3,random_state=123456)\n",
    "    model.fit(x_train, y_train)\n",
    "    return model "
   ]
  },
  {
   "cell_type": "code",
   "execution_count": 58,
   "id": "63e344d0-46e4-4a9a-8987-8a0bbdf579c2",
   "metadata": {},
   "outputs": [],
   "source": [
    "def create_rm():\n",
    "    from sklearn.ensemble import RandomForestClassifier\n",
    "\n",
    "    model = RandomForestClassifier()\n",
    "    model.fit(x_train, y_train)\n",
    "    return model"
   ]
  },
  {
   "cell_type": "code",
   "execution_count": 59,
   "id": "72b55b8d-6981-4eb5-aeb9-602556a5f91f",
   "metadata": {},
   "outputs": [],
   "source": [
    "models = [(create_dt(),'Descision Tree'),(create_rm(),'Random Forest')]"
   ]
  },
  {
   "cell_type": "markdown",
   "id": "1411f277-a791-447d-8a06-1e9f91734335",
   "metadata": {},
   "source": [
    "### eveluate model"
   ]
  },
  {
   "cell_type": "code",
   "execution_count": 60,
   "id": "4acc2b4a-97f8-4f3c-b7cf-e3717c76210e",
   "metadata": {},
   "outputs": [],
   "source": [
    "from sklearn.metrics import  accuracy_score, precision_score, recall_score, f1_score\n",
    "def evaluate_model(model_1, model_name):\n",
    "    y_pred = model_1.predict(x_test)\n",
    "    y_true = y_test\n",
    "\n",
    "    accuracy = accuracy_score(y_true, y_pred)\n",
    "\n",
    "    precision = precision_score(y_true, y_pred)\n",
    "\n",
    "    recall = recall_score(y_true, y_pred)\n",
    "\n",
    "    f1 = f1_score(y_true, y_pred)\n",
    " \n",
    "    return model_name, accuracy, precision, recall, f1"
   ]
  },
  {
   "cell_type": "code",
   "execution_count": 61,
   "id": "6a0b1aeb-a2eb-4b0c-bc4c-7bc71f00906b",
   "metadata": {},
   "outputs": [
    {
     "data": {
      "text/html": [
       "<div>\n",
       "<style scoped>\n",
       "    .dataframe tbody tr th:only-of-type {\n",
       "        vertical-align: middle;\n",
       "    }\n",
       "\n",
       "    .dataframe tbody tr th {\n",
       "        vertical-align: top;\n",
       "    }\n",
       "\n",
       "    .dataframe thead th {\n",
       "        text-align: right;\n",
       "    }\n",
       "</style>\n",
       "<table border=\"1\" class=\"dataframe\">\n",
       "  <thead>\n",
       "    <tr style=\"text-align: right;\">\n",
       "      <th></th>\n",
       "      <th>Algorithm</th>\n",
       "      <th>Accuracy</th>\n",
       "      <th>Precision</th>\n",
       "      <th>Recall</th>\n",
       "      <th>f1</th>\n",
       "    </tr>\n",
       "  </thead>\n",
       "  <tbody>\n",
       "    <tr>\n",
       "      <th>0</th>\n",
       "      <td>Descision Tree</td>\n",
       "      <td>0.555224</td>\n",
       "      <td>0.512953</td>\n",
       "      <td>0.642857</td>\n",
       "      <td>0.570605</td>\n",
       "    </tr>\n",
       "    <tr>\n",
       "      <th>1</th>\n",
       "      <td>Random Forest</td>\n",
       "      <td>0.564179</td>\n",
       "      <td>0.521053</td>\n",
       "      <td>0.642857</td>\n",
       "      <td>0.575581</td>\n",
       "    </tr>\n",
       "  </tbody>\n",
       "</table>\n",
       "</div>"
      ],
      "text/plain": [
       "        Algorithm  Accuracy  Precision    Recall        f1\n",
       "0  Descision Tree  0.555224   0.512953  0.642857  0.570605\n",
       "1   Random Forest  0.564179   0.521053  0.642857  0.575581"
      ]
     },
     "execution_count": 61,
     "metadata": {},
     "output_type": "execute_result"
    }
   ],
   "source": [
    "evaluate_rows = []\n",
    "for (model_1, model_name) in models:\n",
    "    evaluate_rows.append(evaluate_model(model_1, model_name))\n",
    "    \n",
    "df_result = pd.DataFrame(evaluate_rows, columns=['Algorithm','Accuracy','Precision','Recall','f1'])\n",
    "df_result"
   ]
  },
  {
   "cell_type": "code",
   "execution_count": null,
   "id": "1bc70a06-e860-4608-806e-f6cc07845a85",
   "metadata": {},
   "outputs": [],
   "source": []
  },
  {
   "cell_type": "code",
   "execution_count": null,
   "id": "1f3a516a-9f45-4710-89b6-09cfac11ec40",
   "metadata": {},
   "outputs": [],
   "source": []
  }
 ],
 "metadata": {
  "kernelspec": {
   "display_name": "Python 3 (ipykernel)",
   "language": "python",
   "name": "python3"
  },
  "language_info": {
   "codemirror_mode": {
    "name": "ipython",
    "version": 3
   },
   "file_extension": ".py",
   "mimetype": "text/x-python",
   "name": "python",
   "nbconvert_exporter": "python",
   "pygments_lexer": "ipython3",
   "version": "3.10.12"
  }
 },
 "nbformat": 4,
 "nbformat_minor": 5
}
